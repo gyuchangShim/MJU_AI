{
  "nbformat": 4,
  "nbformat_minor": 0,
  "metadata": {
    "colab": {
      "provenance": [],
      "gpuType": "T4",
      "authorship_tag": "ABX9TyPsK5piDzlSm/Qy+RyKkXMC",
      "include_colab_link": true
    },
    "kernelspec": {
      "name": "python3",
      "display_name": "Python 3"
    },
    "language_info": {
      "name": "python"
    },
    "accelerator": "GPU"
  },
  "cells": [
    {
      "cell_type": "markdown",
      "metadata": {
        "id": "view-in-github",
        "colab_type": "text"
      },
      "source": [
        "<a href=\"https://colab.research.google.com/github/gyuchangShim/MJU_AI/blob/main/%EC%9D%B8%EA%B3%B5%EC%A7%80%EB%8A%A51_RNN_%EC%8B%A4%EC%8A%B5.ipynb\" target=\"_parent\"><img src=\"https://colab.research.google.com/assets/colab-badge.svg\" alt=\"Open In Colab\"/></a>"
      ]
    },
    {
      "cell_type": "code",
      "execution_count": 1,
      "metadata": {
        "id": "RTyfo-PP1pcG"
      },
      "outputs": [],
      "source": [
        "# library import\n",
        "import tensorflow as tf\n",
        "tf.keras.utils.set_random_seed(42)\n",
        "tf.config.experimental.enable_op_determinism()"
      ]
    },
    {
      "cell_type": "code",
      "source": [
        "# load dataset from imdb(영화 리뷰 데이터)\n",
        "from tensorflow.keras.datasets import imdb\n",
        "(train_input, train_target), (test_inpjt, test_target) = imdb.load_data(num_words=300)"
      ],
      "metadata": {
        "colab": {
          "base_uri": "https://localhost:8080/"
        },
        "id": "Z32XoVxd2SHN",
        "outputId": "e4c558ed-4a35-4e52-8dd9-27e37e14d470"
      },
      "execution_count": 2,
      "outputs": [
        {
          "output_type": "stream",
          "name": "stdout",
          "text": [
            "Downloading data from https://storage.googleapis.com/tensorflow/tf-keras-datasets/imdb.npz\n",
            "17464789/17464789 [==============================] - 0s 0us/step\n"
          ]
        }
      ]
    },
    {
      "cell_type": "code",
      "source": [
        "# print train data size\n",
        "print(train_input.shape, train_target.shape)\n",
        "print(len(train_input[0]))\n",
        "print(len(train_input[1]))\n",
        "\n",
        "# print train data value (index = 0)\n",
        "print(train_input[0])\n",
        "\n",
        "# check one-hot vector\n",
        "print(train_target[:20])"
      ],
      "metadata": {
        "colab": {
          "base_uri": "https://localhost:8080/"
        },
        "id": "NOGJnQWV2oq-",
        "outputId": "3a48d2b6-1a7c-4e4a-e55f-417aee0a1814"
      },
      "execution_count": 10,
      "outputs": [
        {
          "output_type": "stream",
          "name": "stdout",
          "text": [
            "(25000,) (25000,)\n",
            "218\n",
            "189\n",
            "[1, 14, 22, 16, 43, 2, 2, 2, 2, 65, 2, 2, 66, 2, 4, 173, 36, 256, 5, 25, 100, 43, 2, 112, 50, 2, 2, 9, 35, 2, 284, 5, 150, 4, 172, 112, 167, 2, 2, 2, 39, 4, 172, 2, 2, 17, 2, 38, 13, 2, 4, 192, 50, 16, 6, 147, 2, 19, 14, 22, 4, 2, 2, 2, 4, 22, 71, 87, 12, 16, 43, 2, 38, 76, 15, 13, 2, 4, 22, 17, 2, 17, 12, 16, 2, 18, 2, 5, 62, 2, 12, 8, 2, 8, 106, 5, 4, 2, 2, 16, 2, 66, 2, 33, 4, 130, 12, 16, 38, 2, 5, 25, 124, 51, 36, 135, 48, 25, 2, 33, 6, 22, 12, 215, 28, 77, 52, 5, 14, 2, 16, 82, 2, 8, 4, 107, 117, 2, 15, 256, 4, 2, 7, 2, 5, 2, 36, 71, 43, 2, 2, 26, 2, 2, 46, 7, 4, 2, 2, 13, 104, 88, 4, 2, 15, 297, 98, 32, 2, 56, 26, 141, 6, 194, 2, 18, 4, 226, 22, 21, 134, 2, 26, 2, 5, 144, 30, 2, 18, 51, 36, 28, 224, 92, 25, 104, 4, 226, 65, 16, 38, 2, 88, 12, 16, 283, 5, 16, 2, 113, 103, 32, 15, 16, 2, 19, 178, 32]\n",
            "[1 0 0 1 0 0 1 0 1 0 1 0 0 0 0 0 1 1 0 1]\n"
          ]
        }
      ]
    },
    {
      "cell_type": "code",
      "source": [
        "# data setting\n",
        "from sklearn.model_selection import train_test_split\n",
        "\n",
        "train_input, val_input, train_target, val_target = train_test_split(train_input, train_target, test_size = 0.2, random_state = 42)"
      ],
      "metadata": {
        "id": "Iwsg4HIT3fkw"
      },
      "execution_count": 12,
      "outputs": []
    },
    {
      "cell_type": "code",
      "source": [
        "# calculate each sentence's length from train_input data (mean & median)\n",
        "import numpy as np\n",
        "lengths = np.array([len(x) for x in train_input])\n",
        "\n",
        "print(np.mean(lengths), np.median(lengths))"
      ],
      "metadata": {
        "colab": {
          "base_uri": "https://localhost:8080/"
        },
        "id": "xZBn0gcg4DA_",
        "outputId": "9e8c0f9f-e737-4877-fff5-cd9f4d35e09a"
      },
      "execution_count": 14,
      "outputs": [
        {
          "output_type": "stream",
          "name": "stdout",
          "text": [
            "239.00925 178.0\n"
          ]
        }
      ]
    },
    {
      "cell_type": "code",
      "source": [
        "# create histogram (length - frequency)\n",
        "import matplotlib.pyplot as plt\n",
        "plt.hist(lengths)\n",
        "plt.xlabel('length')\n",
        "plt.ylabel('frequency')\n",
        "plt.show()"
      ],
      "metadata": {
        "colab": {
          "base_uri": "https://localhost:8080/",
          "height": 449
        },
        "id": "6UpAd51Z4fzb",
        "outputId": "0c23554a-d355-4341-feba-255e9b28b8f8"
      },
      "execution_count": 16,
      "outputs": [
        {
          "output_type": "display_data",
          "data": {
            "text/plain": [
              "<Figure size 640x480 with 1 Axes>"
            ],
            "image/png": "[encoded data removed]"
          },
          "metadata": {}
        }
      ]
    },
    {
      "cell_type": "code",
      "source": [
        "# rnn model setting\n",
        "from tensorflow.keras.preprocessing.sequence import pad_sequences\n",
        "train_seq = pad_sequences(train_input, maxlen = 100)\n",
        "\n",
        "print(train_seq.shape)\n",
        "print(train_seq[0])\n",
        "print(train_input[0][-10:])\n",
        "print(train_seq[5])\n",
        "\n",
        "# validation setting\n",
        "val_seq = pad_sequences(val_input, maxlen = 100)"
      ],
      "metadata": {
        "colab": {
          "base_uri": "https://localhost:8080/"
        },
        "id": "4jw32-ae5bHs",
        "outputId": "589be70d-f7ed-49e5-95f7-13ce24c9b377"
      },
      "execution_count": 27,
      "outputs": [
        {
          "output_type": "stream",
          "name": "stdout",
          "text": [
            "(20000, 100)\n",
            "[ 10   4  20   9   2   2   2   5  45   6   2   2  33 269   8   2 142   2\n",
            "   5   2  17  73  17 204   5   2  19  55   2   2  92  66 104  14  20  93\n",
            "  76   2 151  33   4  58  12 188   2 151  12 215  69 224 142  73 237   6\n",
            "   2   7   2   2 188   2 103  14  31  10  10   2   7   2   5   2  80  91\n",
            "   2  30   2  34  14  20 151  50  26 131  49   2  84  46  50  37  80  79\n",
            "   6   2  46   7  14  20  10  10   2 158]\n",
            "[6, 2, 46, 7, 14, 20, 10, 10, 2, 158]\n",
            "[  0   0   0   0   1   2 195  19  49   2   2 190   4   2   2   2 183  10\n",
            "  10  13  82  79   4   2  36  71 269   8   2  25  19  49   7   4   2   2\n",
            "   2   2   2  10  10  48  25  40   2  11   2   2  40   2   2   5   4   2\n",
            "   2  95  14 238  56 129   2  10  10  21   2  94   2   2   2   2  11 190\n",
            "  24   2   2   7  94 205   2  10  10  87   2  34  49   2   7   2   2   2\n",
            "   2   2 290   2  46  48  64  18   4   2]\n"
          ]
        }
      ]
    },
    {
      "cell_type": "code",
      "source": [
        "# create RNN model\n",
        "from tensorflow import keras\n",
        "model = keras.Sequential()\n",
        "model.add(keras.layers.SimpleRNN(8, input_shape = (100, 300)))\n",
        "model.add(keras.layers.Dense(1, activation = 'sigmoid'))\n",
        "\n",
        "train_oh = keras.utils.to_categorical(train_seq)\n",
        "\n",
        "print(train_oh.shape)\n",
        "print(train_oh[0][0][:12])\n",
        "print(np.sum(train_oh[0][0]))\n",
        "\n",
        "val_oh = keras.utils.to_categorical(val_seq)\n",
        "\n",
        "model.summary()"
      ],
      "metadata": {
        "colab": {
          "base_uri": "https://localhost:8080/"
        },
        "id": "Iovr1Jj46ERP",
        "outputId": "b20788dd-8cbb-4cf4-e456-1dd131d8903b"
      },
      "execution_count": 28,
      "outputs": [
        {
          "output_type": "stream",
          "name": "stdout",
          "text": [
            "(20000, 100, 300)\n",
            "[0. 0. 0. 0. 0. 0. 0. 0. 0. 0. 1. 0.]\n",
            "1.0\n",
            "Model: \"sequential_5\"\n",
            "_________________________________________________________________\n",
            " Layer (type)                Output Shape              Param #   \n",
            "=================================================================\n",
            " simple_rnn_5 (SimpleRNN)    (None, 8)                 2472      \n",
            "                                                                 \n",
            " dense_5 (Dense)             (None, 1)                 9         \n",
            "                                                                 \n",
            "=================================================================\n",
            "Total params: 2481 (9.69 KB)\n",
            "Trainable params: 2481 (9.69 KB)\n",
            "Non-trainable params: 0 (0.00 Byte)\n",
            "_________________________________________________________________\n"
          ]
        }
      ]
    },
    {
      "cell_type": "code",
      "source": [
        "# train model\n",
        "rmsprop = keras.optimizers.RMSprop(learning_rate = 1e-4)\n",
        "model.compile(optimizer = rmsprop, loss = 'binary_crossentropy', metrics = ['accuracy'])\n",
        "\n",
        "checkpoint_cb = keras.callbacks.ModelCheckpoint('best-simplernn-model.h5', save_best_only = True)\n",
        "early_stopping_cb = keras.callbacks.EarlyStopping(patience = 3, restore_best_weights = True)\n",
        "\n",
        "history = model.fit(train_oh, train_target, epochs = 100, batch_size = 64, validation_data = (val_oh, val_target),\n",
        "                    callbacks = [checkpoint_cb, early_stopping_cb])"
      ],
      "metadata": {
        "colab": {
          "base_uri": "https://localhost:8080/"
        },
        "id": "vSJkOt2A7NVz",
        "outputId": "97e8ca21-eb03-40e3-aeae-8691075c3851"
      },
      "execution_count": 29,
      "outputs": [
        {
          "output_type": "stream",
          "name": "stdout",
          "text": [
            "Epoch 1/100\n",
            "313/313 [==============================] - 26s 74ms/step - loss: 0.7044 - accuracy: 0.4892 - val_loss: 0.7026 - val_accuracy: 0.4888\n",
            "Epoch 2/100\n",
            "  3/313 [..............................] - ETA: 18s - loss: 0.6962 - accuracy: 0.4792"
          ]
        },
        {
          "output_type": "stream",
          "name": "stderr",
          "text": [
            "/usr/local/lib/python3.10/dist-packages/keras/src/engine/training.py:3103: UserWarning: You are saving your model as an HDF5 file via `model.save()`. This file format is considered legacy. We recommend using instead the native Keras format, e.g. `model.save('my_model.keras')`.\n",
            "  saving_api.save_model(\n"
          ]
        },
        {
          "output_type": "stream",
          "name": "stdout",
          "text": [
            "313/313 [==============================] - 22s 70ms/step - loss: 0.6975 - accuracy: 0.4932 - val_loss: 0.6989 - val_accuracy: 0.4910\n",
            "Epoch 3/100\n",
            "313/313 [==============================] - 20s 64ms/step - loss: 0.6950 - accuracy: 0.5004 - val_loss: 0.6968 - val_accuracy: 0.4936\n",
            "Epoch 4/100\n",
            "313/313 [==============================] - 21s 67ms/step - loss: 0.6933 - accuracy: 0.5081 - val_loss: 0.6952 - val_accuracy: 0.4986\n",
            "Epoch 5/100\n",
            "313/313 [==============================] - 20s 64ms/step - loss: 0.6919 - accuracy: 0.5159 - val_loss: 0.6941 - val_accuracy: 0.5040\n",
            "Epoch 6/100\n",
            "313/313 [==============================] - 21s 67ms/step - loss: 0.6908 - accuracy: 0.5253 - val_loss: 0.6931 - val_accuracy: 0.5116\n",
            "Epoch 7/100\n",
            "313/313 [==============================] - 22s 69ms/step - loss: 0.6896 - accuracy: 0.5349 - val_loss: 0.6923 - val_accuracy: 0.5160\n",
            "Epoch 8/100\n",
            "313/313 [==============================] - 20s 65ms/step - loss: 0.6885 - accuracy: 0.5421 - val_loss: 0.6914 - val_accuracy: 0.5254\n",
            "Epoch 9/100\n",
            "313/313 [==============================] - 22s 70ms/step - loss: 0.6874 - accuracy: 0.5485 - val_loss: 0.6905 - val_accuracy: 0.5306\n",
            "Epoch 10/100\n",
            "313/313 [==============================] - 22s 69ms/step - loss: 0.6863 - accuracy: 0.5529 - val_loss: 0.6900 - val_accuracy: 0.5268\n",
            "Epoch 11/100\n",
            "313/313 [==============================] - 21s 66ms/step - loss: 0.6852 - accuracy: 0.5568 - val_loss: 0.6893 - val_accuracy: 0.5268\n",
            "Epoch 12/100\n",
            "313/313 [==============================] - 22s 69ms/step - loss: 0.6840 - accuracy: 0.5569 - val_loss: 0.6881 - val_accuracy: 0.5394\n",
            "Epoch 13/100\n",
            "313/313 [==============================] - 21s 68ms/step - loss: 0.6829 - accuracy: 0.5609 - val_loss: 0.6878 - val_accuracy: 0.5368\n",
            "Epoch 14/100\n",
            "313/313 [==============================] - 20s 65ms/step - loss: 0.6817 - accuracy: 0.5615 - val_loss: 0.6869 - val_accuracy: 0.5418\n",
            "Epoch 15/100\n",
            "313/313 [==============================] - 21s 68ms/step - loss: 0.6805 - accuracy: 0.5656 - val_loss: 0.6868 - val_accuracy: 0.5400\n",
            "Epoch 16/100\n",
            "313/313 [==============================] - 22s 70ms/step - loss: 0.6791 - accuracy: 0.5691 - val_loss: 0.6860 - val_accuracy: 0.5384\n",
            "Epoch 17/100\n",
            "313/313 [==============================] - 21s 66ms/step - loss: 0.6776 - accuracy: 0.5744 - val_loss: 0.6847 - val_accuracy: 0.5412\n",
            "Epoch 18/100\n",
            "313/313 [==============================] - 22s 70ms/step - loss: 0.6756 - accuracy: 0.5793 - val_loss: 0.6829 - val_accuracy: 0.5482\n",
            "Epoch 19/100\n",
            "313/313 [==============================] - 22s 70ms/step - loss: 0.6684 - accuracy: 0.5972 - val_loss: 0.6715 - val_accuracy: 0.5932\n",
            "Epoch 20/100\n",
            "313/313 [==============================] - 21s 66ms/step - loss: 0.6553 - accuracy: 0.6204 - val_loss: 0.6590 - val_accuracy: 0.6158\n",
            "Epoch 21/100\n",
            "313/313 [==============================] - 22s 71ms/step - loss: 0.6412 - accuracy: 0.6421 - val_loss: 0.6439 - val_accuracy: 0.6362\n",
            "Epoch 22/100\n",
            "313/313 [==============================] - 22s 70ms/step - loss: 0.6249 - accuracy: 0.6671 - val_loss: 0.6284 - val_accuracy: 0.6572\n",
            "Epoch 23/100\n",
            "313/313 [==============================] - 21s 69ms/step - loss: 0.6084 - accuracy: 0.6851 - val_loss: 0.6144 - val_accuracy: 0.6706\n",
            "Epoch 24/100\n",
            "313/313 [==============================] - 22s 69ms/step - loss: 0.5932 - accuracy: 0.6991 - val_loss: 0.5980 - val_accuracy: 0.6878\n",
            "Epoch 25/100\n",
            "313/313 [==============================] - 21s 69ms/step - loss: 0.5791 - accuracy: 0.7102 - val_loss: 0.5843 - val_accuracy: 0.7020\n",
            "Epoch 26/100\n",
            "313/313 [==============================] - 20s 65ms/step - loss: 0.5662 - accuracy: 0.7208 - val_loss: 0.5734 - val_accuracy: 0.7096\n",
            "Epoch 27/100\n",
            "313/313 [==============================] - 21s 68ms/step - loss: 0.5550 - accuracy: 0.7294 - val_loss: 0.5623 - val_accuracy: 0.7188\n",
            "Epoch 28/100\n",
            "313/313 [==============================] - 22s 69ms/step - loss: 0.5449 - accuracy: 0.7357 - val_loss: 0.5591 - val_accuracy: 0.7158\n",
            "Epoch 29/100\n",
            "313/313 [==============================] - 20s 65ms/step - loss: 0.5373 - accuracy: 0.7415 - val_loss: 0.5613 - val_accuracy: 0.7222\n",
            "Epoch 30/100\n",
            "313/313 [==============================] - 21s 69ms/step - loss: 0.5307 - accuracy: 0.7442 - val_loss: 0.5398 - val_accuracy: 0.7358\n",
            "Epoch 31/100\n",
            "313/313 [==============================] - 21s 66ms/step - loss: 0.5253 - accuracy: 0.7490 - val_loss: 0.5359 - val_accuracy: 0.7382\n",
            "Epoch 32/100\n",
            "313/313 [==============================] - 21s 67ms/step - loss: 0.5208 - accuracy: 0.7510 - val_loss: 0.5300 - val_accuracy: 0.7440\n",
            "Epoch 33/100\n",
            "313/313 [==============================] - 22s 69ms/step - loss: 0.5165 - accuracy: 0.7559 - val_loss: 0.5263 - val_accuracy: 0.7494\n",
            "Epoch 34/100\n",
            "313/313 [==============================] - 20s 64ms/step - loss: 0.5124 - accuracy: 0.7570 - val_loss: 0.5264 - val_accuracy: 0.7526\n",
            "Epoch 35/100\n",
            "313/313 [==============================] - 21s 68ms/step - loss: 0.5097 - accuracy: 0.7587 - val_loss: 0.5209 - val_accuracy: 0.7518\n",
            "Epoch 36/100\n",
            "313/313 [==============================] - 22s 70ms/step - loss: 0.5070 - accuracy: 0.7613 - val_loss: 0.5187 - val_accuracy: 0.7546\n",
            "Epoch 37/100\n",
            "313/313 [==============================] - 21s 67ms/step - loss: 0.5047 - accuracy: 0.7609 - val_loss: 0.5182 - val_accuracy: 0.7540\n",
            "Epoch 38/100\n",
            "313/313 [==============================] - 23s 74ms/step - loss: 0.5024 - accuracy: 0.7632 - val_loss: 0.5179 - val_accuracy: 0.7550\n",
            "Epoch 39/100\n",
            "313/313 [==============================] - 23s 73ms/step - loss: 0.5009 - accuracy: 0.7642 - val_loss: 0.5138 - val_accuracy: 0.7588\n",
            "Epoch 40/100\n",
            "313/313 [==============================] - 23s 72ms/step - loss: 0.4987 - accuracy: 0.7653 - val_loss: 0.5138 - val_accuracy: 0.7540\n",
            "Epoch 41/100\n",
            "313/313 [==============================] - 21s 68ms/step - loss: 0.4968 - accuracy: 0.7662 - val_loss: 0.5129 - val_accuracy: 0.7556\n",
            "Epoch 42/100\n",
            "313/313 [==============================] - 23s 72ms/step - loss: 0.4954 - accuracy: 0.7691 - val_loss: 0.5102 - val_accuracy: 0.7582\n",
            "Epoch 43/100\n",
            "313/313 [==============================] - 22s 71ms/step - loss: 0.4937 - accuracy: 0.7689 - val_loss: 0.5094 - val_accuracy: 0.7560\n",
            "Epoch 44/100\n",
            "313/313 [==============================] - 21s 66ms/step - loss: 0.4923 - accuracy: 0.7696 - val_loss: 0.5096 - val_accuracy: 0.7588\n",
            "Epoch 45/100\n",
            "313/313 [==============================] - 22s 70ms/step - loss: 0.4915 - accuracy: 0.7699 - val_loss: 0.5119 - val_accuracy: 0.7504\n",
            "Epoch 46/100\n",
            "313/313 [==============================] - 32s 103ms/step - loss: 0.4901 - accuracy: 0.7703 - val_loss: 0.5096 - val_accuracy: 0.7598\n"
          ]
        }
      ]
    },
    {
      "cell_type": "code",
      "source": [
        "# check loss & visualization\n",
        "# 그래프의 형태를 보고 epoch를 늘릴지 줄일지 결정\n",
        "plt.plot(history.history['loss'])\n",
        "plt.plot(history.history['val_loss'])\n",
        "plt.xlabel('epoch')\n",
        "plt.ylabel('loss')\n",
        "plt.legend(['train', 'val'])\n",
        "plt.show()"
      ],
      "metadata": {
        "colab": {
          "base_uri": "https://localhost:8080/",
          "height": 449
        },
        "id": "BMZnlOrFAXOA",
        "outputId": "35110c8a-dcd4-4246-c908-4271893f8dfd"
      },
      "execution_count": 30,
      "outputs": [
        {
          "output_type": "display_data",
          "data": {
            "text/plain": [
              "<Figure size 640x480 with 1 Axes>"
            ],
            "image/png": "[encoded data removed]"
          },
          "metadata": {}
        }
      ]
    },
    {
      "cell_type": "code",
      "source": [],
      "metadata": {
        "id": "g6nD8T6uAy7t"
      },
      "execution_count": null,
      "outputs": []
    }
  ]
}
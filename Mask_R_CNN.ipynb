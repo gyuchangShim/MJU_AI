{
  "nbformat": 4,
  "nbformat_minor": 0,
  "metadata": {
    "colab": {
      "provenance": [],
      "gpuType": "T4",
      "authorship_tag": "ABX9TyMWOBvMrgiZ+o42h8Br2Vn2",
      "include_colab_link": true
    },
    "kernelspec": {
      "name": "python3",
      "display_name": "Python 3"
    },
    "language_info": {
      "name": "python"
    },
    "accelerator": "GPU"
  },
  "cells": [
    {
      "cell_type": "markdown",
      "metadata": {
        "id": "view-in-github",
        "colab_type": "text"
      },
      "source": [
        "<a href=\"https://colab.research.google.com/github/gyuchangShim/MJU_AI/blob/MASK-RCNN/Mask_R_CNN.ipynb\" target=\"_parent\"><img src=\"https://colab.research.google.com/assets/colab-badge.svg\" alt=\"Open In Colab\"/></a>"
      ]
    },
    {
      "cell_type": "code",
      "source": [
        "# detectron2 git clone 및 환경 설정\n",
        "!python -m pip install pyyaml==5.1\n",
        "import sys, os, distutils.core\n",
        "# Note: This is a faster way to install detectron2 in Colab, but it does not include all functionalities (e.g. compiled operators).\n",
        "# See https://detectron2.readthedocs.io/tutorials/install.html for full installation instructions\n",
        "!git clone 'https://github.com/facebookresearch/detectron2'\n",
        "dist = distutils.core.run_setup(\"./detectron2/setup.py\")\n",
        "!python -m pip install {' '.join([f\"'{x}'\" for x in dist.install_requires])}\n",
        "sys.path.insert(0, os.path.abspath('./detectron2'))"
      ],
      "metadata": {
        "id": "oE6sgNT7Vw58"
      },
      "execution_count": null,
      "outputs": []
    },
    {
      "cell_type": "code",
      "source": [
        "# torch, cuda, detectron2 version 확인\n",
        "import torch, detectron2\n",
        "!nvcc --version\n",
        "TORCH_VERSION = \".\".join(torch.__version__.split(\".\")[:2])\n",
        "CUDA_VERSION = torch.__version__.split(\"+\")[-1]\n",
        "print(\"torch: \", TORCH_VERSION, \"; cuda: \", CUDA_VERSION)\n",
        "print(\"detectron2:\", detectron2.__version__)"
      ],
      "metadata": {
        "id": "otuw1bQ_BnbM"
      },
      "execution_count": null,
      "outputs": []
    },
    {
      "cell_type": "code",
      "source": [
        "# Setup detectron2 logger\n",
        "import detectron2\n",
        "from detectron2.utils.logger import setup_logger\n",
        "setup_logger()\n",
        "\n",
        "# import some common libraries\n",
        "import numpy as np\n",
        "import os, json, random\n",
        "import matplotlib.pyplot as plt\n",
        "\n",
        "# import some common detectron2 utilities\n",
        "from detectron2 import model_zoo\n",
        "from detectron2.engine import DefaultTrainer, DefaultPredictor\n",
        "from detectron2.config import get_cfg\n",
        "from detectron2.utils.visualizer import Visualizer\n",
        "from detectron2.data import MetadataCatalog, DatasetCatalog\n",
        "from detectron2.data.datasets import register_coco_instances\n",
        "from detectron2.evaluation import COCOEvaluator\n",
        "from detectron2.data import build_detection_test_loader"
      ],
      "metadata": {
        "id": "eAA5wng3fyLT"
      },
      "execution_count": 3,
      "outputs": []
    },
    {
      "cell_type": "code",
      "source": [
        "import os\n",
        "import tensorflow as tf\n",
        "from tensorflow.python.client import device_lib\n",
        "\n",
        "print(device_lib.list_local_devices())\n",
        "os.environ[\"CUDA_VISIBLE_DEVICES\"] = \"0\"\n",
        "\n",
        "tf.test.is_gpu_available()\n",
        "gpus = tf.config.experimental.list_physical_devices('GPU')\n",
        "if gpus:\n",
        "    try:\n",
        "        # Currently, memory growth needs to be the same across GPUs\n",
        "        for gpu in gpus:\n",
        "            tf.config.experimental.set_memory_growth(gpus[0], True)\n",
        "    except RuntimeError as e:\n",
        "        # Memory growth must be set before GPUs have been initialized\n",
        "        print(e)"
      ],
      "metadata": {
        "id": "VEJSlgH_9UVG"
      },
      "execution_count": null,
      "outputs": []
    },
    {
      "cell_type": "code",
      "source": [
        "# Drive Mount\n",
        "from google.colab import drive\n",
        "drive.mount('/content/gdrive')"
      ],
      "metadata": {
        "id": "bHeq25Zq9sZY",
        "outputId": "691a82ae-1f8b-4b4a-9e86-0779432bd15e",
        "colab": {
          "base_uri": "https://localhost:8080/"
        }
      },
      "execution_count": 5,
      "outputs": [
        {
          "output_type": "stream",
          "name": "stdout",
          "text": [
            "Mounted at /content/gdrive\n"
          ]
        }
      ]
    },
    {
      "cell_type": "code",
      "source": [
        "import json\n",
        "\n",
        "# 파일을 UTF-8 인코딩으로 읽어오기\n",
        "with open(train_annotations_path, \"r\", encoding=\"utf-8\") as f:\n",
        "    data = json.load(f)\n",
        "\n",
        "# COCO 데이터셋 등록\n",
        "register_coco_instances(\"pole_train\", {}, data[\"images\"], data[\"annotations\"])\n",
        "\n",
        "# 데이터셋 메타데이터 로드\n",
        "pole_metadata = MetadataCatalog.get(\"pole_train\")\n"
      ],
      "metadata": {
        "id": "KUfnD9uFcBgs"
      },
      "execution_count": null,
      "outputs": []
    },
    {
      "cell_type": "code",
      "source": [
        "dataset_dir = \"/content/gdrive/MyDrive/pole_dataset/\"\n",
        "train_images_path = os.path.join(dataset_dir, \"images\")\n",
        "train_annotations_path = os.path.join(dataset_dir, \"annotations\", \"instances_default.json\")\n",
        "#val_images_path = os.path.join(dataset_dir, \"val\", \"images\")\n",
        "#val_annotations_path = os.path.join(dataset_dir, \"val\", \"annotations\", \"instances_val.json\")\n",
        "\n",
        "# COCO 데이터셋 등록\n",
        "register_coco_instances(\"pole_train\", {}, train_annotations_path, train_images_path)\n",
        "#register_coco_instances(\"pole_val\", {}, val_annotations_path, val_images_path)\n",
        "\n",
        "# 데이터셋 메타데이터 로드\n",
        "pole_metadata = MetadataCatalog.get(\"pole_train\")"
      ],
      "metadata": {
        "id": "OwxBPeajCQSb"
      },
      "execution_count": null,
      "outputs": []
    },
    {
      "cell_type": "code",
      "source": [
        "# 기본 설정\n",
        "cfg = get_cfg()\n",
        "# COCO 데이터 셋에 사전 학습된 MASK R-CNN 모델의 기본 설정 파일 가져오기\n",
        "cfg.merge_from_file(model_zoo.get_config_file(\"COCO-InstanceSegmentation/mask_rcnn_R_50_FPN_3x.yaml\"))\n",
        "# 훈련 데이터 셋 지정\n",
        "cfg.DATASETS.TRAIN = (\"pole_train\",)\n",
        "# 모델 테스트 데이터 셋 지정\n",
        "cfg.DATASETS.TEST = ()\n",
        "# Data Loader에 필요한 worker 프로세스의 수 지정(많을 수록 빨라짐)\n",
        "cfg.DATALOADER.NUM_WORKERS = 2\n",
        "# COCO 데이터 셋에서 사전 학습된 모델의 가중치 가져오기(가중치 초기화)\n",
        "cfg.MODEL.WEIGHTS = model_zoo.get_checkpoint_url(\"COCO-InstanceSegmentation/mask_rcnn_R_50_FPN_3x.yaml\")  # 사전 학습된 가중치 사용\n",
        "# 한 Batch에 포함되는 이미지 개수 지정\n",
        "cfg.SOLVER.IMS_PER_BATCH = 2\n",
        "# 학습의 기본 학습률 설정(모델의 학습 속도를 결정)\n",
        "cfg.SOLVER.BASE_LR = 0.00025\n",
        "# 학습의 반복 횟수 지정\n",
        "cfg.SOLVER.MAX_ITER = 100\n",
        "# 각 이미지 당 ROI에서 추출할 샘플의 개수 지정(학습 중 사용)\n",
        "cfg.MODEL.ROI_HEADS.BATCH_SIZE_PER_IMAGE = 512\n",
        "# 모델이 예측할 클래스 개수 지정\n",
        "cfg.MODEL.ROI_HEADS.NUM_CLASSES = 5"
      ],
      "metadata": {
        "id": "KIsU1l8_hO_k"
      },
      "execution_count": 10,
      "outputs": []
    },
    {
      "cell_type": "code",
      "source": [
        "# 이전 프로세스 확인\n",
        "import psutil\n",
        "\n",
        "for proc in psutil.process_iter():\n",
        "    try:\n",
        "        process_name = proc.name()\n",
        "        if \"python\" in process_name and \"colab\" in process_name:\n",
        "            print(\"이전 프로세스 발견:\", process_name)\n",
        "    except (psutil.NoSuchProcess, psutil.AccessDenied, psutil.ZombieProcess):\n",
        "        pass\n",
        "\n",
        "print(\"모든 프로세스 검색 완료.\")"
      ],
      "metadata": {
        "id": "YplJUl2MkwOu"
      },
      "execution_count": null,
      "outputs": []
    },
    {
      "cell_type": "code",
      "source": [
        "# CUDA 디버깅\n",
        "#os.environ['CUDA_LAUNCH_BLOCKING'] = '1'\n",
        "#os.environ[\"CUDA_VISIBLE_DEVICES\"] = \"0\"\n",
        "#os.environ[\"TORCH_USE_CUDA_DSA\"] = '1'\n",
        "\n",
        "# Trainer 생성\n",
        "trainer = DefaultTrainer(cfg)\n",
        "trainer.resume_or_load(resume=False)\n",
        "trainer.train()"
      ],
      "metadata": {
        "id": "rNDF2FQShR2w"
      },
      "execution_count": null,
      "outputs": []
    },
    {
      "cell_type": "code",
      "source": [
        "# Tensorboard를 활용한 결과 확인\n",
        "%load_ext tensorboard\n",
        "%tensorboard --logdir output"
      ],
      "metadata": {
        "id": "MLRGP9iZTlaq"
      },
      "execution_count": null,
      "outputs": []
    }
  ]
}
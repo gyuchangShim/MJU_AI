{
  "cells": [
    {
      "cell_type": "markdown",
      "metadata": {
        "id": "view-in-github",
        "colab_type": "text"
      },
      "source": [
        "<a href=\"https://colab.research.google.com/github/gyuchangShim/MJU_AI/blob/VGG16-CNN/Colaboratory%EC%97%90_%EC%98%A4%EC%8B%A0_%EA%B2%83%EC%9D%84_%ED%99%98%EC%98%81%ED%95%A9%EB%8B%88%EB%8B%A4.ipynb\" target=\"_parent\"><img src=\"https://colab.research.google.com/assets/colab-badge.svg\" alt=\"Open In Colab\"/></a>"
      ]
    },
    {
      "cell_type": "code",
      "source": [
        "import tensorflow as tf\n",
        "from tensorflow.keras import layers\n",
        "from tensorflow.keras.preprocessing.image import ImageDataGenerator\n",
        "import os\n",
        "import numpy as np\n",
        "import cv2\n",
        "import matplotlib.pyplot as plt\n",
        "from tensorflow.python.client import device_lib"
      ],
      "metadata": {
        "id": "WAGW_yu7o9_W"
      },
      "execution_count": 1,
      "outputs": []
    },
    {
      "cell_type": "code",
      "source": [
        "print(device_lib.list_local_devices())\n",
        "os.environ[\"CUDA_VISIBLE_DEVICES\"] = \"0\"\n",
        "\n",
        "tf.test.is_gpu_available()\n",
        "gpus = tf.config.experimental.list_physical_devices('GPU')\n",
        "if gpus:\n",
        "    try:\n",
        "        # Currently, memory growth needs to be the same across GPUs\n",
        "        for gpu in gpus:\n",
        "            tf.config.experimental.set_memory_growth(gpus[0], True)\n",
        "    except RuntimeError as e:\n",
        "        # Memory growth must be set before GPUs have been initialized\n",
        "        print(e)"
      ],
      "metadata": {
        "id": "YhSvnWSMpG-Q",
        "outputId": "95c3bde0-69fa-480f-991b-d4fa129df0e5",
        "colab": {
          "base_uri": "https://localhost:8080/"
        }
      },
      "execution_count": 2,
      "outputs": [
        {
          "output_type": "stream",
          "name": "stderr",
          "text": [
            "WARNING:tensorflow:From <ipython-input-2-90e90d6fd632>:4: is_gpu_available (from tensorflow.python.framework.test_util) is deprecated and will be removed in a future version.\n",
            "Instructions for updating:\n",
            "Use `tf.config.list_physical_devices('GPU')` instead.\n"
          ]
        },
        {
          "output_type": "stream",
          "name": "stdout",
          "text": [
            "[name: \"/device:CPU:0\"\n",
            "device_type: \"CPU\"\n",
            "memory_limit: 268435456\n",
            "locality {\n",
            "}\n",
            "incarnation: 1891208361474807218\n",
            "xla_global_id: -1\n",
            ", name: \"/device:GPU:0\"\n",
            "device_type: \"GPU\"\n",
            "memory_limit: 14626652160\n",
            "locality {\n",
            "  bus_id: 1\n",
            "  links {\n",
            "  }\n",
            "}\n",
            "incarnation: 5547424166039818236\n",
            "physical_device_desc: \"device: 0, name: Tesla T4, pci bus id: 0000:00:04.0, compute capability: 7.5\"\n",
            "xla_global_id: 416903419\n",
            "]\n"
          ]
        }
      ]
    },
    {
      "cell_type": "code",
      "source": [
        "def VGG16():\n",
        "    tf.random.set_seed(2)\n",
        "    model = tf.keras.models.Sequential([\n",
        "        # input = 224 x 224 x 3\n",
        "\n",
        "        # 224 x 224 x 64\n",
        "        layers.Conv2D(64, (3, 3), strides=1, padding='same', activation='relu', input_shape=(224, 224, 3)),\n",
        "        layers.Conv2D(64, (3, 3), strides=1, padding='same', activation='relu'),\n",
        "\n",
        "        # 112 x 112 x 64\n",
        "        layers.MaxPool2D((2, 2), padding='same'),\n",
        "\n",
        "        # 112 x 112 x 128\n",
        "        layers.Conv2D(128, (3, 3), strides=1, padding='same', activation='relu'),\n",
        "        layers.Conv2D(128, (3, 3), strides=1, padding='same', activation='relu'),\n",
        "\n",
        "        # 56 x 56 x 128\n",
        "        layers.MaxPool2D((2, 2), padding='same'),\n",
        "\n",
        "        # 56 x 56 x 256\n",
        "        layers.Conv2D(256, (3, 3), strides=1, padding='same', activation='relu'),\n",
        "        layers.Conv2D(256, (3, 3), strides=1, padding='same', activation='relu'),\n",
        "        layers.Conv2D(256, (3, 3), strides=1, padding='same', activation='relu'),\n",
        "\n",
        "        # 28 x 28 x 256\n",
        "        layers.MaxPool2D((2, 2), padding='same'),\n",
        "\n",
        "        # 28 x 28 x 512\n",
        "        layers.Conv2D(512, (3, 3), strides=1, padding='same', activation='relu'),\n",
        "        layers.Conv2D(512, (3, 3), strides=1, padding='same', activation='relu'),\n",
        "        layers.Conv2D(512, (3, 3), strides=1, padding='same', activation='relu'),\n",
        "\n",
        "        # 14 x 14 x 512\n",
        "        layers.MaxPool2D((2, 2), padding='same'),\n",
        "\n",
        "        # 14 x 14 x 512\n",
        "        layers.Conv2D(512, (3, 3), strides=1, padding='same', activation='relu'),\n",
        "        layers.Conv2D(512, (3, 3), strides=1, padding='same', activation='relu'),\n",
        "        layers.Conv2D(512, (3, 3), strides=1, padding='same', activation='relu'),\n",
        "\n",
        "        # 7 x 7 x 512\n",
        "        layers.MaxPool2D((2, 2), padding='same'),\n",
        "\n",
        "        # 1 x 1 x 25088\n",
        "        layers.Flatten(),\n",
        "        layers.Dropout(0.5),\n",
        "\n",
        "        # 1 x 1 x 4096\n",
        "        layers.Dense(4096, activation='relu'),\n",
        "\n",
        "        # 1 x 1 x 4096\n",
        "        layers.Dense(4096, activation='relu'),\n",
        "\n",
        "        # 1 x 1 x 1000\n",
        "        layers.Dense(1000, activation='relu'),\n",
        "\n",
        "        # 1 x 1 x 2\n",
        "        layers.Dense(2, activation='softmax'),\n",
        "    ])\n",
        "    model.compile(optimizer=tf.keras.optimizers.SGD(learning_rate=0.01),\n",
        "                  loss='categorical_crossentropy',\n",
        "                  metrics=['acc'])\n",
        "\n",
        "    return model"
      ],
      "metadata": {
        "id": "tpp8uMiPpH1v"
      },
      "execution_count": 3,
      "outputs": []
    },
    {
      "cell_type": "code",
      "source": [
        "# Drive Mount\n",
        "from google.colab import drive\n",
        "drive.mount('/content/gdrive')"
      ],
      "metadata": {
        "id": "zPdCijn8yhZo",
        "outputId": "11d0c59a-4076-4fc9-b0b6-8e25ee79e650",
        "colab": {
          "base_uri": "https://localhost:8080/"
        }
      },
      "execution_count": 4,
      "outputs": [
        {
          "output_type": "stream",
          "name": "stdout",
          "text": [
            "Mounted at /content/gdrive\n"
          ]
        }
      ]
    },
    {
      "cell_type": "code",
      "source": [
        "train_dataset_path = '/content/gdrive/MyDrive/dataset/train_set/'\n",
        "train_data_generator = ImageDataGenerator(rescale=1. / 255)\n",
        "train_dataset = train_data_generator.flow_from_directory(train_dataset_path,\n",
        "                                                         shuffle=True,\n",
        "                                                         target_size=(224, 224),\n",
        "                                                         batch_size=32,\n",
        "                                                         class_mode='categorical')\n",
        "\n",
        "\n",
        "valid_dataset_path = '/content/gdrive/MyDrive/dataset/validate_set/'\n",
        "valid_data_generator = ImageDataGenerator(rescale=1. / 255)\n",
        "valid_dataset = valid_data_generator.flow_from_directory(valid_dataset_path,\n",
        "                                                         shuffle=True,\n",
        "                                                         target_size=(224, 224),\n",
        "                                                         batch_size=32,\n",
        "                                                         class_mode='categorical')\n"
      ],
      "metadata": {
        "id": "VJ2x3RwW2HYg",
        "outputId": "f0d1641e-b915-4778-8f68-0ae929fa5820",
        "colab": {
          "base_uri": "https://localhost:8080/"
        }
      },
      "execution_count": 6,
      "outputs": [
        {
          "output_type": "stream",
          "name": "stdout",
          "text": [
            "Found 3000 images belonging to 2 classes.\n",
            "Found 500 images belonging to 2 classes.\n"
          ]
        }
      ]
    },
    {
      "cell_type": "code",
      "source": [
        "# Train\n",
        "print(\"Start Train!\")\n",
        "model = VGG16()\n",
        "model.summary()\n",
        "train = model.fit(train_dataset, epochs=5, validation_data=valid_dataset)"
      ],
      "metadata": {
        "id": "Awp0mkWSrKxP",
        "outputId": "f453df4a-8294-4908-de8e-3a36b732c11f",
        "colab": {
          "base_uri": "https://localhost:8080/"
        }
      },
      "execution_count": 7,
      "outputs": [
        {
          "output_type": "stream",
          "name": "stdout",
          "text": [
            "Start Train!\n",
            "Model: \"sequential\"\n",
            "_________________________________________________________________\n",
            " Layer (type)                Output Shape              Param #   \n",
            "=================================================================\n",
            " conv2d (Conv2D)             (None, 224, 224, 64)      1792      \n",
            "                                                                 \n",
            " conv2d_1 (Conv2D)           (None, 224, 224, 64)      36928     \n",
            "                                                                 \n",
            " max_pooling2d (MaxPooling2  (None, 112, 112, 64)      0         \n",
            " D)                                                              \n",
            "                                                                 \n",
            " conv2d_2 (Conv2D)           (None, 112, 112, 128)     73856     \n",
            "                                                                 \n",
            " conv2d_3 (Conv2D)           (None, 112, 112, 128)     147584    \n",
            "                                                                 \n",
            " max_pooling2d_1 (MaxPoolin  (None, 56, 56, 128)       0         \n",
            " g2D)                                                            \n",
            "                                                                 \n",
            " conv2d_4 (Conv2D)           (None, 56, 56, 256)       295168    \n",
            "                                                                 \n",
            " conv2d_5 (Conv2D)           (None, 56, 56, 256)       590080    \n",
            "                                                                 \n",
            " conv2d_6 (Conv2D)           (None, 56, 56, 256)       590080    \n",
            "                                                                 \n",
            " max_pooling2d_2 (MaxPoolin  (None, 28, 28, 256)       0         \n",
            " g2D)                                                            \n",
            "                                                                 \n",
            " conv2d_7 (Conv2D)           (None, 28, 28, 512)       1180160   \n",
            "                                                                 \n",
            " conv2d_8 (Conv2D)           (None, 28, 28, 512)       2359808   \n",
            "                                                                 \n",
            " conv2d_9 (Conv2D)           (None, 28, 28, 512)       2359808   \n",
            "                                                                 \n",
            " max_pooling2d_3 (MaxPoolin  (None, 14, 14, 512)       0         \n",
            " g2D)                                                            \n",
            "                                                                 \n",
            " conv2d_10 (Conv2D)          (None, 14, 14, 512)       2359808   \n",
            "                                                                 \n",
            " conv2d_11 (Conv2D)          (None, 14, 14, 512)       2359808   \n",
            "                                                                 \n",
            " conv2d_12 (Conv2D)          (None, 14, 14, 512)       2359808   \n",
            "                                                                 \n",
            " max_pooling2d_4 (MaxPoolin  (None, 7, 7, 512)         0         \n",
            " g2D)                                                            \n",
            "                                                                 \n",
            " flatten (Flatten)           (None, 25088)             0         \n",
            "                                                                 \n",
            " dropout (Dropout)           (None, 25088)             0         \n",
            "                                                                 \n",
            " dense (Dense)               (None, 4096)              102764544 \n",
            "                                                                 \n",
            " dense_1 (Dense)             (None, 4096)              16781312  \n",
            "                                                                 \n",
            " dense_2 (Dense)             (None, 1000)              4097000   \n",
            "                                                                 \n",
            " dense_3 (Dense)             (None, 2)                 2002      \n",
            "                                                                 \n",
            "=================================================================\n",
            "Total params: 138359546 (527.80 MB)\n",
            "Trainable params: 138359546 (527.80 MB)\n",
            "Non-trainable params: 0 (0.00 Byte)\n",
            "_________________________________________________________________\n",
            "Epoch 1/5\n",
            "94/94 [==============================] - 239s 2s/step - loss: 0.2867 - acc: 0.9893 - val_loss: 4.9345 - val_acc: 0.0000e+00\n",
            "Epoch 2/5\n",
            "94/94 [==============================] - 42s 439ms/step - loss: 0.0022 - acc: 1.0000 - val_loss: 8.1074 - val_acc: 0.0000e+00\n",
            "Epoch 3/5\n",
            "94/94 [==============================] - 42s 441ms/step - loss: 3.1539e-04 - acc: 1.0000 - val_loss: 9.1621 - val_acc: 0.0000e+00\n",
            "Epoch 4/5\n",
            "94/94 [==============================] - 42s 449ms/step - loss: 1.4908e-04 - acc: 1.0000 - val_loss: 9.7917 - val_acc: 0.0000e+00\n",
            "Epoch 5/5\n",
            "94/94 [==============================] - 42s 449ms/step - loss: 9.1727e-05 - acc: 1.0000 - val_loss: 10.2348 - val_acc: 0.0000e+00\n"
          ]
        }
      ]
    },
    {
      "cell_type": "code",
      "source": [
        "# Accuracy graph\n",
        "plt.figure(1)\n",
        "plt.plot(train.history['acc'])\n",
        "plt.plot(train.history['val_acc'])\n",
        "plt.title('Accuracy')\n",
        "plt.ylabel('accuracy')\n",
        "plt.xlabel('epoch')\n",
        "plt.legend(['train', 'validation'], loc='upper left')\n",
        "plt.savefig('VGG16_Accuracy_1.png')\n",
        "print(\"Saved Accuracy graph\")"
      ],
      "metadata": {
        "id": "L471q_gIrMsm",
        "outputId": "3f92fce3-53e3-4735-f4d0-4af52124e074",
        "colab": {
          "base_uri": "https://localhost:8080/",
          "height": 490
        }
      },
      "execution_count": 9,
      "outputs": [
        {
          "output_type": "stream",
          "name": "stdout",
          "text": [
            "Saved Accuracy graph\n"
          ]
        },
        {
          "output_type": "display_data",
          "data": {
            "text/plain": [
              "<Figure size 640x480 with 1 Axes>"
            ],
            "image/png": "[encoded data removed]"
          },
          "metadata": {}
        }
      ]
    },
    {
      "cell_type": "code",
      "source": [
        "# Loss graph\n",
        "plt.figure(2)\n",
        "plt.plot(train.history['loss'])\n",
        "plt.plot(train.history['val_loss'])\n",
        "plt.title('Loss')\n",
        "plt.ylabel('loss')\n",
        "plt.xlabel('epoch')\n",
        "plt.legend(['train', 'validation'], loc='upper left')\n",
        "plt.savefig('VGG16_Loss_1.png')\n",
        "print(\"Saved Loss graph\")\n",
        "\n",
        "model.save('VGG16.h5')"
      ],
      "metadata": {
        "id": "RX9rXS3TrQUj",
        "outputId": "2da272fd-55d7-4f1f-92e4-854d73ef88ce",
        "colab": {
          "base_uri": "https://localhost:8080/",
          "height": 546
        }
      },
      "execution_count": 8,
      "outputs": [
        {
          "output_type": "stream",
          "name": "stdout",
          "text": [
            "Saved Loss graph\n"
          ]
        },
        {
          "output_type": "stream",
          "name": "stderr",
          "text": [
            "/usr/local/lib/python3.10/dist-packages/keras/src/engine/training.py:3103: UserWarning: You are saving your model as an HDF5 file via `model.save()`. This file format is considered legacy. We recommend using instead the native Keras format, e.g. `model.save('my_model.keras')`.\n",
            "  saving_api.save_model(\n"
          ]
        },
        {
          "output_type": "display_data",
          "data": {
            "text/plain": [
              "<Figure size 640x480 with 1 Axes>"
            ],
            "image/png": "[encoded data removed]"
          },
          "metadata": {}
        }
      ]
    }
  ],
  "metadata": {
    "colab": {
      "name": "Colaboratory에 오신 것을 환영합니다",
      "provenance": [],
      "gpuType": "T4",
      "include_colab_link": true
    },
    "kernelspec": {
      "display_name": "Python 3",
      "name": "python3"
    },
    "accelerator": "GPU"
  },
  "nbformat": 4,
  "nbformat_minor": 0
}